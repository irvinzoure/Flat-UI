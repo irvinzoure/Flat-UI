{
  "nbformat": 4,
  "nbformat_minor": 0,
  "metadata": {
    "colab": {
      "name": "Untitled6.ipynb",
      "version": "0.3.2",
      "provenance": [],
      "collapsed_sections": [],
      "include_colab_link": true
    },
    "kernelspec": {
      "name": "python3",
      "display_name": "Python 3"
    }
  },
  "cells": [
    {
      "cell_type": "markdown",
      "metadata": {
        "id": "view-in-github",
        "colab_type": "text"
      },
      "source": [
        "<a href=\"https://colab.research.google.com/github/irvinzoure/Flat-UI/blob/master/Untitled6.ipynb\" target=\"_parent\"><img src=\"https://colab.research.google.com/assets/colab-badge.svg\" alt=\"Open In Colab\"/></a>"
      ]
    },
    {
      "metadata": {
        "id": "UM6zopq9Ac2a",
        "colab_type": "text"
      },
      "cell_type": "markdown",
      "source": [
        "#JAVASCRIPT références\n",
        "* [js array](https://developer.mozilla.org/en-US/docs/Web/JavaScript/Reference/Global_Objects/Array)\n",
        "##important\n",
        "-------------------\n",
        ".push() -> créer a la fin \n",
        ".pop() -> suprime à la fin \n",
        ".shift() -> créer au début \n"
      ]
    }
  ]
}